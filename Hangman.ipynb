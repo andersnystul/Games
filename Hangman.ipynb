{
  "nbformat": 4,
  "nbformat_minor": 0,
  "metadata": {
    "colab": {
      "provenance": [],
      "authorship_tag": "ABX9TyOnCBk0OkQs+BS8XFpvu07q",
      "include_colab_link": true
    },
    "kernelspec": {
      "name": "python3",
      "display_name": "Python 3"
    },
    "language_info": {
      "name": "python"
    }
  },
  "cells": [
    {
      "cell_type": "markdown",
      "metadata": {
        "id": "view-in-github",
        "colab_type": "text"
      },
      "source": [
        "<a href=\"https://colab.research.google.com/github/andersnystul/Games/blob/main/Hangman.ipynb\" target=\"_parent\"><img src=\"https://colab.research.google.com/assets/colab-badge.svg\" alt=\"Open In Colab\"/></a>"
      ]
    },
    {
      "cell_type": "code",
      "execution_count": 7,
      "metadata": {
        "id": "ELQhBhPib_bF"
      },
      "outputs": [],
      "source": [
        "# Import packages\n",
        "import numpy as np\n",
        "import pandas as pd"
      ]
    },
    {
      "cell_type": "code",
      "source": [
        "# Defining word list\n",
        "words = [\"hello\", \"nice\", \"genius\", \"brilliant\", \"starvation\", \"incredible\", \"fannatical\", \"fluorescent\", \"quantum\"]"
      ],
      "metadata": {
        "id": "RawjsnhqdhEe"
      },
      "execution_count": 10,
      "outputs": []
    },
    {
      "cell_type": "code",
      "source": [
        "# setting random words\n",
        "answer = np.random.choice(words)"
      ],
      "metadata": {
        "id": "Zd65jRJkeaX6"
      },
      "execution_count": 58,
      "outputs": []
    },
    {
      "cell_type": "code",
      "source": [
        "lives = 7"
      ],
      "metadata": {
        "id": "EXGpT6DOnean"
      },
      "execution_count": 61,
      "outputs": []
    },
    {
      "cell_type": "code",
      "source": [
        "guess = 'l'\n",
        "for i in answer:\n",
        "  if i == guess:\n",
        "    print ('correct')\n",
        "  else:\n",
        "    print ('incorrect')\n"
      ],
      "metadata": {
        "colab": {
          "base_uri": "https://localhost:8080/"
        },
        "id": "O5e7c7eteuIN",
        "outputId": "78dea3dc-107a-46df-abdf-2d4dcd62db96"
      },
      "execution_count": 67,
      "outputs": [
        {
          "output_type": "stream",
          "name": "stdout",
          "text": [
            "incorrect\n",
            "-0.1111111111111111\n",
            "incorrect\n",
            "-0.1111111111111111\n",
            "incorrect\n",
            "-0.1111111111111111\n",
            "correct\n",
            "correct\n",
            "incorrect\n",
            "-0.1111111111111111\n",
            "incorrect\n",
            "-0.1111111111111111\n",
            "incorrect\n",
            "-0.1111111111111111\n",
            "incorrect\n",
            "-0.1111111111111111\n"
          ]
        }
      ]
    },
    {
      "cell_type": "code",
      "source": [
        "life_total = lives"
      ],
      "metadata": {
        "id": "MdZkJVNfopX9"
      },
      "execution_count": 66,
      "outputs": []
    }
  ]
}